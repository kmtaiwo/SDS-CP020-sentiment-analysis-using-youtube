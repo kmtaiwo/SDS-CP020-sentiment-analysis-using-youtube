{
 "cells": [
  {
   "cell_type": "code",
   "execution_count": 1,
   "metadata": {},
   "outputs": [],
   "source": [
    "from dotenv import load_dotenv\n",
    "load_dotenv()\n",
    "\n",
    "import googleapiclient.discovery\n",
    "import googleapiclient.errors\n",
    "import os"
   ]
  },
  {
   "cell_type": "code",
   "execution_count": 2,
   "metadata": {},
   "outputs": [
    {
     "name": "stdout",
     "output_type": "stream",
     "text": [
      "{'kind': 'youtube#channelListResponse', 'etag': '_xnvEpwJHmX-dtiedlB5Js2HbLY', 'pageInfo': {'totalResults': 1, 'resultsPerPage': 5}, 'items': [{'kind': 'youtube#channel', 'etag': '73Ga1rQbT1fWwWnjeQLkwUgnIHU', 'id': 'UCCezIgC97PvUuR4_gbFUs5g', 'statistics': {'viewCount': '103062578', 'subscriberCount': '1450000', 'hiddenSubscriberCount': False, 'videoCount': '245'}}]}\n"
     ]
    }
   ],
   "source": [
    "from googleapiclient.discovery import build\n",
    "\n",
    "api_service_name = \"youtube\"\n",
    "api_version = \"v3\"\n",
    "#DEVELOPER_KEY = os.getenv(\"ytb_api\")\n",
    "DEVELOPER_KEY = os.getenv('api_key')\n",
    "\n",
    "youtube = build('youtube', 'v3', developerKey=DEVELOPER_KEY)\n",
    "\n",
    "request = youtube.channels().list(part = 'statistics', forUsername = 'schafer5')\n",
    "\n",
    "response = request.execute()\n",
    "\n",
    "print(response)\n"
   ]
  },
  {
   "cell_type": "code",
   "execution_count": 3,
   "metadata": {},
   "outputs": [
    {
     "name": "stdout",
     "output_type": "stream",
     "text": [
      "{'kind': 'youtube#channelListResponse', 'etag': 'bQ6byrVnDT8FAuDWGzdZY2dV4ow', 'pageInfo': {'totalResults': 1, 'resultsPerPage': 5}, 'items': [{'kind': 'youtube#channel', 'etag': 'uJWTb-T89peDIjjvi21UY7OmD74', 'id': 'UCfzlCWGWYyIQ0aLC5w48gBQ', 'statistics': {'viewCount': '118147546', 'subscriberCount': '1410000', 'hiddenSubscriberCount': False, 'videoCount': '1262'}}]}\n"
     ]
    }
   ],
   "source": [
    "from googleapiclient.discovery import build\n",
    "\n",
    "youtube = build('youtube', 'v3', developerKey=DEVELOPER_KEY)\n",
    "\n",
    "request = youtube.channels().list(part = 'statistics', forUsername = 'sentdex')\n",
    "\n",
    "response = request.execute()\n",
    "\n",
    "print(response)\n"
   ]
  }
 ],
 "metadata": {
  "kernelspec": {
   "display_name": "Python 3",
   "language": "python",
   "name": "python3"
  },
  "language_info": {
   "codemirror_mode": {
    "name": "ipython",
    "version": 3
   },
   "file_extension": ".py",
   "mimetype": "text/x-python",
   "name": "python",
   "nbconvert_exporter": "python",
   "pygments_lexer": "ipython3",
   "version": "3.9.5"
  }
 },
 "nbformat": 4,
 "nbformat_minor": 2
}
